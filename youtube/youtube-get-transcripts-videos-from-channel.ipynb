{
 "cells": [
  {
   "cell_type": "code",
   "execution_count": 1,
   "metadata": {},
   "outputs": [],
   "source": [
    "from youtube_constants import YOUTUBE_API_ACCESS_TOKEN, CHANNEL_ID"
   ]
  },
  {
   "cell_type": "code",
   "execution_count": 2,
   "metadata": {},
   "outputs": [
    {
     "name": "stdout",
     "output_type": "stream",
     "text": [
      "UCphQA4DKYX14O32KDdf_mSQ\n"
     ]
    }
   ],
   "source": [
    "print(CHANNEL_ID)"
   ]
  },
  {
   "cell_type": "code",
   "execution_count": 3,
   "metadata": {},
   "outputs": [],
   "source": [
    "from youtube_data import get_all_video_in_channel, get_videos_from_list, chunks"
   ]
  },
  {
   "cell_type": "code",
   "execution_count": 4,
   "metadata": {},
   "outputs": [],
   "source": [
    "\n",
    "respo, video_links = get_all_video_in_channel(api_key=YOUTUBE_API_ACCESS_TOKEN,\n",
    "                                               channel_id=CHANNEL_ID)\n"
   ]
  },
  {
   "cell_type": "code",
   "execution_count": 5,
   "metadata": {},
   "outputs": [],
   "source": [
    "# formatting the data outputs fo the video links for the next api call\n",
    "import pandas as pd\n",
    "\n",
    "\n",
    "\n",
    "dfvideolinks = pd.DataFrame(video_links)\n",
    "\n",
    "\n",
    "dftemp = dfvideolinks.drop(columns=[\"id\", \"kind\"]).merge(dfvideolinks[\"id\"].apply(pd.Series), right_index=True, left_index=True)\n",
    "dftemp_final_video_channel_list = dftemp.drop(columns=\"snippet\").merge(dftemp[\"snippet\"].apply(pd.Series), right_index=True, left_index=True)\n",
    "dftemp_final_video_channel_list[\"thumbnail\"] = dftemp_final_video_channel_list[\"thumbnails\"].map(lambda x: x.get(\"high\", {}).get(\"url\", None))\n",
    "# final column pass for part 1 \n",
    "dftemp_final_video_channel_list = dftemp_final_video_channel_list.drop(columns=[\"thumbnails\"])\n"
   ]
  },
  {
   "cell_type": "code",
   "execution_count": 6,
   "metadata": {},
   "outputs": [
    {
     "data": {
      "text/html": [
       "<div>\n",
       "<style scoped>\n",
       "    .dataframe tbody tr th:only-of-type {\n",
       "        vertical-align: middle;\n",
       "    }\n",
       "\n",
       "    .dataframe tbody tr th {\n",
       "        vertical-align: top;\n",
       "    }\n",
       "\n",
       "    .dataframe thead th {\n",
       "        text-align: right;\n",
       "    }\n",
       "</style>\n",
       "<table border=\"1\" class=\"dataframe\">\n",
       "  <thead>\n",
       "    <tr style=\"text-align: right;\">\n",
       "      <th></th>\n",
       "      <th>etag</th>\n",
       "      <th>videoLink</th>\n",
       "      <th>kind</th>\n",
       "      <th>videoId</th>\n",
       "      <th>publishedAt</th>\n",
       "      <th>channelId</th>\n",
       "      <th>title</th>\n",
       "      <th>description</th>\n",
       "      <th>channelTitle</th>\n",
       "      <th>liveBroadcastContent</th>\n",
       "      <th>publishTime</th>\n",
       "      <th>thumbnail</th>\n",
       "    </tr>\n",
       "  </thead>\n",
       "  <tbody>\n",
       "    <tr>\n",
       "      <th>42</th>\n",
       "      <td>dN1CC3rLme-VAOL2AE367X_jYJA</td>\n",
       "      <td>https://www.youtube.com/watch?v=nwI9STTjCbI</td>\n",
       "      <td>youtube#video</td>\n",
       "      <td>nwI9STTjCbI</td>\n",
       "      <td>2022-09-02T20:39:35Z</td>\n",
       "      <td>UCphQA4DKYX14O32KDdf_mSQ</td>\n",
       "      <td>Special Council Meeting August 24, 2022 (1)</td>\n",
       "      <td></td>\n",
       "      <td>Town of Fort Fairfield</td>\n",
       "      <td>none</td>\n",
       "      <td>2022-09-02T20:39:35Z</td>\n",
       "      <td>https://i.ytimg.com/vi/nwI9STTjCbI/hqdefault.jpg</td>\n",
       "    </tr>\n",
       "    <tr>\n",
       "      <th>54</th>\n",
       "      <td>xwWNVmQPbCZWAO70CHkjWYMmSho</td>\n",
       "      <td>https://www.youtube.com/watch?v=foX46E_SxQI</td>\n",
       "      <td>youtube#video</td>\n",
       "      <td>foX46E_SxQI</td>\n",
       "      <td>2022-06-08T11:46:59Z</td>\n",
       "      <td>UCphQA4DKYX14O32KDdf_mSQ</td>\n",
       "      <td>Budget Advisory Committee June 7, 2022</td>\n",
       "      <td></td>\n",
       "      <td>Town of Fort Fairfield</td>\n",
       "      <td>none</td>\n",
       "      <td>2022-06-08T11:46:59Z</td>\n",
       "      <td>https://i.ytimg.com/vi/foX46E_SxQI/hqdefault.jpg</td>\n",
       "    </tr>\n",
       "  </tbody>\n",
       "</table>\n",
       "</div>"
      ],
      "text/plain": [
       "                           etag                                    videoLink  \\\n",
       "42  dN1CC3rLme-VAOL2AE367X_jYJA  https://www.youtube.com/watch?v=nwI9STTjCbI   \n",
       "54  xwWNVmQPbCZWAO70CHkjWYMmSho  https://www.youtube.com/watch?v=foX46E_SxQI   \n",
       "\n",
       "             kind      videoId           publishedAt  \\\n",
       "42  youtube#video  nwI9STTjCbI  2022-09-02T20:39:35Z   \n",
       "54  youtube#video  foX46E_SxQI  2022-06-08T11:46:59Z   \n",
       "\n",
       "                   channelId                                        title  \\\n",
       "42  UCphQA4DKYX14O32KDdf_mSQ  Special Council Meeting August 24, 2022 (1)   \n",
       "54  UCphQA4DKYX14O32KDdf_mSQ       Budget Advisory Committee June 7, 2022   \n",
       "\n",
       "   description            channelTitle liveBroadcastContent  \\\n",
       "42              Town of Fort Fairfield                 none   \n",
       "54              Town of Fort Fairfield                 none   \n",
       "\n",
       "             publishTime                                         thumbnail  \n",
       "42  2022-09-02T20:39:35Z  https://i.ytimg.com/vi/nwI9STTjCbI/hqdefault.jpg  \n",
       "54  2022-06-08T11:46:59Z  https://i.ytimg.com/vi/foX46E_SxQI/hqdefault.jpg  "
      ]
     },
     "execution_count": 6,
     "metadata": {},
     "output_type": "execute_result"
    }
   ],
   "source": [
    "# showing what the df looks like so far\n",
    "dftemp_final_video_channel_list.sample(2)"
   ]
  },
  {
   "cell_type": "code",
   "execution_count": 7,
   "metadata": {},
   "outputs": [
    {
     "name": "stdout",
     "output_type": "stream",
     "text": [
      "videos in channel: 66\n"
     ]
    }
   ],
   "source": [
    "print(f\"videos in channel: {dftemp_final_video_channel_list.shape[0]}\")"
   ]
  },
  {
   "cell_type": "code",
   "execution_count": 8,
   "metadata": {},
   "outputs": [],
   "source": [
    "# now passing various video ids to get more information about the video\n",
    "\n",
    "\n",
    "list_of_video_lists = list(chunks(l=dftemp_final_video_channel_list[\"videoId\"].tolist(), n=5))"
   ]
  },
  {
   "cell_type": "code",
   "execution_count": 9,
   "metadata": {},
   "outputs": [],
   "source": [
    "list_resps = []\n",
    "list_videos_dfs = []\n",
    "\n",
    "for video_list in list_of_video_lists:\n",
    "    # now we have a lists of lists that we can call the api since we cant pass in 50+ videos at one time\n",
    "    respov, items_ = get_videos_from_list(api_key=YOUTUBE_API_ACCESS_TOKEN, video_id_list=video_list)\n",
    "    list_resps.append(respov)\n",
    "    list_videos_dfs.append(pd.DataFrame(items_))\n"
   ]
  },
  {
   "cell_type": "code",
   "execution_count": 10,
   "metadata": {},
   "outputs": [
    {
     "name": "stdout",
     "output_type": "stream",
     "text": [
      "66\n"
     ]
    }
   ],
   "source": [
    "big_df_videos = pd.concat(list_videos_dfs).reset_index(drop=True)\n",
    "print(big_df_videos.shape[0])"
   ]
  },
  {
   "cell_type": "code",
   "execution_count": 11,
   "metadata": {},
   "outputs": [],
   "source": [
    "DF_VIDEOS = dftemp_final_video_channel_list.merge(big_df_videos, right_on=[\"videoId\"], left_on=[\"videoId\"])"
   ]
  },
  {
   "cell_type": "code",
   "execution_count": 12,
   "metadata": {},
   "outputs": [
    {
     "data": {
      "text/html": [
       "<div>\n",
       "<style scoped>\n",
       "    .dataframe tbody tr th:only-of-type {\n",
       "        vertical-align: middle;\n",
       "    }\n",
       "\n",
       "    .dataframe tbody tr th {\n",
       "        vertical-align: top;\n",
       "    }\n",
       "\n",
       "    .dataframe thead th {\n",
       "        text-align: right;\n",
       "    }\n",
       "</style>\n",
       "<table border=\"1\" class=\"dataframe\">\n",
       "  <thead>\n",
       "    <tr style=\"text-align: right;\">\n",
       "      <th></th>\n",
       "      <th>etag</th>\n",
       "      <th>videoLink</th>\n",
       "      <th>kind</th>\n",
       "      <th>videoId</th>\n",
       "      <th>publishedAt</th>\n",
       "      <th>channelId</th>\n",
       "      <th>title</th>\n",
       "      <th>description</th>\n",
       "      <th>channelTitle</th>\n",
       "      <th>liveBroadcastContent</th>\n",
       "      <th>publishTime</th>\n",
       "      <th>thumbnail</th>\n",
       "      <th>duration_seconds</th>\n",
       "      <th>duration_approx_minutes</th>\n",
       "      <th>viewCount</th>\n",
       "      <th>likeCount</th>\n",
       "      <th>favoriteCount</th>\n",
       "      <th>commentCount</th>\n",
       "    </tr>\n",
       "  </thead>\n",
       "  <tbody>\n",
       "    <tr>\n",
       "      <th>52</th>\n",
       "      <td>TQj9a87sxOlq4bcir8Rdz1wO-b4</td>\n",
       "      <td>https://www.youtube.com/watch?v=0Hepid8MmwE</td>\n",
       "      <td>youtube#video</td>\n",
       "      <td>0Hepid8MmwE</td>\n",
       "      <td>2022-06-10T12:31:58Z</td>\n",
       "      <td>UCphQA4DKYX14O32KDdf_mSQ</td>\n",
       "      <td>Budget Workshop #2 6.9.22 (3)</td>\n",
       "      <td></td>\n",
       "      <td>Town of Fort Fairfield</td>\n",
       "      <td>none</td>\n",
       "      <td>2022-06-10T12:31:58Z</td>\n",
       "      <td>https://i.ytimg.com/vi/0Hepid8MmwE/hqdefault.jpg</td>\n",
       "      <td>3601.0</td>\n",
       "      <td>60.0</td>\n",
       "      <td>43</td>\n",
       "      <td>0</td>\n",
       "      <td>0</td>\n",
       "      <td>0</td>\n",
       "    </tr>\n",
       "    <tr>\n",
       "      <th>1</th>\n",
       "      <td>5iAWO-lQ7JLl9RYiL9sqUsc2EsE</td>\n",
       "      <td>https://www.youtube.com/watch?v=ZUHU4d5AD9U</td>\n",
       "      <td>youtube#video</td>\n",
       "      <td>ZUHU4d5AD9U</td>\n",
       "      <td>2024-06-13T12:09:20Z</td>\n",
       "      <td>UCphQA4DKYX14O32KDdf_mSQ</td>\n",
       "      <td>(#1) 12June24 Regular Town Council Meeting</td>\n",
       "      <td></td>\n",
       "      <td>Town of Fort Fairfield</td>\n",
       "      <td>none</td>\n",
       "      <td>2024-06-13T12:09:20Z</td>\n",
       "      <td>https://i.ytimg.com/vi/ZUHU4d5AD9U/hqdefault.jpg</td>\n",
       "      <td>3604.0</td>\n",
       "      <td>60.0</td>\n",
       "      <td>203</td>\n",
       "      <td>4</td>\n",
       "      <td>0</td>\n",
       "      <td>0</td>\n",
       "    </tr>\n",
       "  </tbody>\n",
       "</table>\n",
       "</div>"
      ],
      "text/plain": [
       "                           etag                                    videoLink  \\\n",
       "52  TQj9a87sxOlq4bcir8Rdz1wO-b4  https://www.youtube.com/watch?v=0Hepid8MmwE   \n",
       "1   5iAWO-lQ7JLl9RYiL9sqUsc2EsE  https://www.youtube.com/watch?v=ZUHU4d5AD9U   \n",
       "\n",
       "             kind      videoId           publishedAt  \\\n",
       "52  youtube#video  0Hepid8MmwE  2022-06-10T12:31:58Z   \n",
       "1   youtube#video  ZUHU4d5AD9U  2024-06-13T12:09:20Z   \n",
       "\n",
       "                   channelId                                       title  \\\n",
       "52  UCphQA4DKYX14O32KDdf_mSQ               Budget Workshop #2 6.9.22 (3)   \n",
       "1   UCphQA4DKYX14O32KDdf_mSQ  (#1) 12June24 Regular Town Council Meeting   \n",
       "\n",
       "   description            channelTitle liveBroadcastContent  \\\n",
       "52              Town of Fort Fairfield                 none   \n",
       "1               Town of Fort Fairfield                 none   \n",
       "\n",
       "             publishTime                                         thumbnail  \\\n",
       "52  2022-06-10T12:31:58Z  https://i.ytimg.com/vi/0Hepid8MmwE/hqdefault.jpg   \n",
       "1   2024-06-13T12:09:20Z  https://i.ytimg.com/vi/ZUHU4d5AD9U/hqdefault.jpg   \n",
       "\n",
       "    duration_seconds  duration_approx_minutes viewCount likeCount  \\\n",
       "52            3601.0                     60.0        43         0   \n",
       "1             3604.0                     60.0       203         4   \n",
       "\n",
       "   favoriteCount commentCount  \n",
       "52             0            0  \n",
       "1              0            0  "
      ]
     },
     "execution_count": 12,
     "metadata": {},
     "output_type": "execute_result"
    }
   ],
   "source": [
    "# added more data to  the DF VIDEOS\n",
    "DF_VIDEOS.sample(2)\n"
   ]
  },
  {
   "cell_type": "code",
   "execution_count": 13,
   "metadata": {},
   "outputs": [],
   "source": [
    "DF_VIDEOS.to_csv(\"../outputs/sample-test.csv\", index=False)"
   ]
  },
  {
   "cell_type": "code",
   "execution_count": 14,
   "metadata": {},
   "outputs": [],
   "source": [
    "# mnow to get caption text\n",
    "from youtube_data import get_transcript_from_video_id\n",
    "\n"
   ]
  },
  {
   "cell_type": "code",
   "execution_count": 15,
   "metadata": {},
   "outputs": [
    {
     "name": "stdout",
     "output_type": "stream",
     "text": [
      "An error occurred for video 4NTecDkUD6I @ index 41:\n",
      " \n",
      "Could not retrieve a transcript for the video https://www.youtube.com/watch?v=4NTecDkUD6I! This is most likely caused by:\n",
      "\n",
      "Subtitles are disabled for this video\n",
      "\n",
      "If you are sure that the described cause is not responsible for this error and that a transcript should be retrievable, please create an issue at https://github.com/jdepoix/youtube-transcript-api/issues. Please add which version of youtube_transcript_api you are using and provide the information needed to replicate the error. Also make sure that there are no open issues which already describe your problem!\n",
      "{'videoId': '4NTecDkUD6I', 'captions_raw': None, 'caption_text_flag': False}\n",
      "An error occurred for video dRbZCyamcyg @ index 46:\n",
      " no element found: line 1, column 0\n",
      "{'videoId': 'dRbZCyamcyg', 'captions_raw': None, 'caption_text_flag': False}\n",
      "An error occurred for video XY-MOEmH11M @ index 50:\n",
      " no element found: line 1, column 0\n",
      "{'videoId': 'XY-MOEmH11M', 'captions_raw': None, 'caption_text_flag': False}\n"
     ]
    }
   ],
   "source": [
    "import jsonlines\n",
    "\n",
    "l_transcripts = []\n",
    "fout_path = \"../outputs/videos-transcripts-sample.jsonl\"\n",
    "\n",
    "with jsonlines.open(fout_path, \"w\") as fout:\n",
    "    \n",
    "    for i, row in DF_VIDEOS.iterrows():\n",
    "\n",
    "        new_i = {}\n",
    "        video_id = row[\"videoId\"]\n",
    "        new_i[\"videoId\"] = video_id\n",
    "        try:\n",
    "            new_i[\"captions_raw\"] = get_transcript_from_video_id(row[\"videoId\"])\n",
    "            new_i[\"caption_text_flag\"] = True\n",
    "        except Exception as error:\n",
    "            print(f\"An error occurred for video {video_id} @ index {i}:\\n\", error)\n",
    "            new_i[\"captions_raw\"] = None\n",
    "            new_i[\"caption_text_flag\"] = False\n",
    "            print(new_i)\n",
    "\n",
    "        \n",
    "        fout.write(new_i)\n",
    "        l_transcripts.append(new_i)\n",
    "        "
   ]
  },
  {
   "cell_type": "code",
   "execution_count": 16,
   "metadata": {},
   "outputs": [],
   "source": [
    "# uncomment if you want to use the file output\n",
    "# add path to where your transcripts jsonl file is\n",
    "\n",
    "# path_transcripts_jsonl = \"../outputs/videos-transcripts-sample.jsonl\"\n",
    "\n",
    "# df_transcripts = pd.read_json(path_transcripts_jsonl, lines=True)\n",
    "\n",
    "\n",
    "# or if you want to use the list\n",
    "df_transcripts = pd.DataFrame(l_transcripts)"
   ]
  },
  {
   "cell_type": "code",
   "execution_count": null,
   "metadata": {},
   "outputs": [],
   "source": []
  },
  {
   "cell_type": "code",
   "execution_count": 17,
   "metadata": {},
   "outputs": [],
   "source": [
    "\n",
    "# making final merged df\n",
    "merged_df = DF_VIDEOS.merge(df_transcripts, right_on=\"videoId\", left_on=\"videoId\", how=\"outer\")\n",
    "\n",
    "\n"
   ]
  },
  {
   "cell_type": "code",
   "execution_count": null,
   "metadata": {},
   "outputs": [],
   "source": [
    "\n"
   ]
  },
  {
   "cell_type": "markdown",
   "metadata": {},
   "source": []
  },
  {
   "cell_type": "code",
   "execution_count": 18,
   "metadata": {},
   "outputs": [],
   "source": [
    "column_rename_map = {\n",
    "\n",
    "  \"channelId\": 'channel_id',\n",
    "  \"channelTitle\":  'channel_title',\n",
    "  \"videoId\": 'vid_id', \n",
    "  \"title\": 'vid_title',\n",
    "  \"description\": 'vid_desc',\n",
    "  \"duration_approx_minutes\": 'vid_length_min_approx',\n",
    "  \"duration_seconds\": \"duration_seconds\",\n",
    "  'publishedAt': 'vid_upload_date',\n",
    "  'liveBroadcastContent': 'vid_livestreamed',\n",
    "  'viewCount':  'vid_views',\n",
    "  'likeCount': 'vid_likes',\n",
    "  \"commentCount\": 'vid_comments',\n",
    "  \"favoriteCount\" :'vid_favorites',\n",
    "  \"captions_raw\": 'caption_text_raw',\n",
    "  \"caption_text_flag\": \"caption_text_flag\",\n",
    "  \"meeting_date\": \"meeting_date\",\n",
    "  \"video_link\": \"video_link\",\n",
    "  \"thumbail\": \"thumbnail\",\n",
    "  \n",
    "    }"
   ]
  },
  {
   "cell_type": "code",
   "execution_count": 19,
   "metadata": {},
   "outputs": [],
   "source": [
    "# getting meeting dates\n",
    "\n",
    "renamed_cols_df = merged_df.rename(columns=column_rename_map)"
   ]
  },
  {
   "cell_type": "code",
   "execution_count": 22,
   "metadata": {},
   "outputs": [
    {
     "data": {
      "text/html": [
       "<div>\n",
       "<style scoped>\n",
       "    .dataframe tbody tr th:only-of-type {\n",
       "        vertical-align: middle;\n",
       "    }\n",
       "\n",
       "    .dataframe tbody tr th {\n",
       "        vertical-align: top;\n",
       "    }\n",
       "\n",
       "    .dataframe thead th {\n",
       "        text-align: right;\n",
       "    }\n",
       "</style>\n",
       "<table border=\"1\" class=\"dataframe\">\n",
       "  <thead>\n",
       "    <tr style=\"text-align: right;\">\n",
       "      <th></th>\n",
       "      <th>channel_id</th>\n",
       "      <th>channel_title</th>\n",
       "      <th>vid_id</th>\n",
       "      <th>vid_title</th>\n",
       "      <th>vid_desc</th>\n",
       "      <th>vid_length_min_approx</th>\n",
       "      <th>duration_seconds</th>\n",
       "      <th>vid_upload_date</th>\n",
       "      <th>vid_livestreamed</th>\n",
       "      <th>vid_views</th>\n",
       "      <th>vid_likes</th>\n",
       "      <th>vid_comments</th>\n",
       "      <th>vid_favorites</th>\n",
       "      <th>caption_text_raw</th>\n",
       "      <th>caption_text_flag</th>\n",
       "    </tr>\n",
       "  </thead>\n",
       "  <tbody>\n",
       "    <tr>\n",
       "      <th>65</th>\n",
       "      <td>UCphQA4DKYX14O32KDdf_mSQ</td>\n",
       "      <td>Town of Fort Fairfield</td>\n",
       "      <td>h9o1i-YhAiQ</td>\n",
       "      <td>February 16, 2022 Regular Town Council Meeting</td>\n",
       "      <td>Regular Town Council Meeting - February 16, 2022.</td>\n",
       "      <td>50.0</td>\n",
       "      <td>3000.0</td>\n",
       "      <td>2022-02-17T18:48:59Z</td>\n",
       "      <td>none</td>\n",
       "      <td>119</td>\n",
       "      <td>1</td>\n",
       "      <td>0</td>\n",
       "      <td>0</td>\n",
       "      <td>uh mr well at first let's uh sorry about that ...</td>\n",
       "      <td>True</td>\n",
       "    </tr>\n",
       "    <tr>\n",
       "      <th>16</th>\n",
       "      <td>UCphQA4DKYX14O32KDdf_mSQ</td>\n",
       "      <td>Town of Fort Fairfield</td>\n",
       "      <td>4MsL6hX9Gps</td>\n",
       "      <td>15Nov23 Regular Town Council Meeting</td>\n",
       "      <td></td>\n",
       "      <td>50.0</td>\n",
       "      <td>2971.0</td>\n",
       "      <td>2023-11-21T13:40:58Z</td>\n",
       "      <td>none</td>\n",
       "      <td>137</td>\n",
       "      <td>0</td>\n",
       "      <td>0</td>\n",
       "      <td>0</td>\n",
       "      <td>get just go just go halfway in between right l...</td>\n",
       "      <td>True</td>\n",
       "    </tr>\n",
       "  </tbody>\n",
       "</table>\n",
       "</div>"
      ],
      "text/plain": [
       "                  channel_id           channel_title       vid_id  \\\n",
       "65  UCphQA4DKYX14O32KDdf_mSQ  Town of Fort Fairfield  h9o1i-YhAiQ   \n",
       "16  UCphQA4DKYX14O32KDdf_mSQ  Town of Fort Fairfield  4MsL6hX9Gps   \n",
       "\n",
       "                                         vid_title  \\\n",
       "65  February 16, 2022 Regular Town Council Meeting   \n",
       "16            15Nov23 Regular Town Council Meeting   \n",
       "\n",
       "                                             vid_desc  vid_length_min_approx  \\\n",
       "65  Regular Town Council Meeting - February 16, 2022.                   50.0   \n",
       "16                                                                      50.0   \n",
       "\n",
       "    duration_seconds       vid_upload_date vid_livestreamed vid_views  \\\n",
       "65            3000.0  2022-02-17T18:48:59Z             none       119   \n",
       "16            2971.0  2023-11-21T13:40:58Z             none       137   \n",
       "\n",
       "   vid_likes vid_comments vid_favorites  \\\n",
       "65         1            0             0   \n",
       "16         0            0             0   \n",
       "\n",
       "                                     caption_text_raw  caption_text_flag  \n",
       "65  uh mr well at first let's uh sorry about that ...               True  \n",
       "16  get just go just go halfway in between right l...               True  "
      ]
     },
     "execution_count": 22,
     "metadata": {},
     "output_type": "execute_result"
    }
   ],
   "source": [
    "renamed_cols_df[[c for c in column_rename_map.values() if c in renamed_cols_df.columns]].sample(2)"
   ]
  },
  {
   "cell_type": "code",
   "execution_count": 21,
   "metadata": {},
   "outputs": [],
   "source": [
    "renamed_cols_df[[c for c in column_rename_map.values() if c in renamed_cols_df.columns]].to_csv(\"../outputs/sample-with-transcripts.csv\", index=False)"
   ]
  },
  {
   "cell_type": "code",
   "execution_count": null,
   "metadata": {},
   "outputs": [],
   "source": [
    "dftemp_final_video_channel_list.columns"
   ]
  },
  {
   "cell_type": "code",
   "execution_count": 1,
   "metadata": {},
   "outputs": [
    {
     "ename": "NameError",
     "evalue": "name 'dftemp_final_video_channel_list' is not defined",
     "output_type": "error",
     "traceback": [
      "\u001b[0;31m---------------------------------------------------------------------------\u001b[0m",
      "\u001b[0;31mNameError\u001b[0m                                 Traceback (most recent call last)",
      "Cell \u001b[0;32mIn[1], line 1\u001b[0m\n\u001b[0;32m----> 1\u001b[0m \u001b[43mdftemp_final_video_channel_list\u001b[49m\n",
      "\u001b[0;31mNameError\u001b[0m: name 'dftemp_final_video_channel_list' is not defined"
     ]
    }
   ],
   "source": [
    "dftemp_final_video_channel_list"
   ]
  },
  {
   "cell_type": "code",
   "execution_count": null,
   "metadata": {},
   "outputs": [],
   "source": []
  }
 ],
 "metadata": {
  "kernelspec": {
   "display_name": "env",
   "language": "python",
   "name": "python3"
  },
  "language_info": {
   "codemirror_mode": {
    "name": "ipython",
    "version": 3
   },
   "file_extension": ".py",
   "mimetype": "text/x-python",
   "name": "python",
   "nbconvert_exporter": "python",
   "pygments_lexer": "ipython3",
   "version": "3.9.12"
  }
 },
 "nbformat": 4,
 "nbformat_minor": 2
}
